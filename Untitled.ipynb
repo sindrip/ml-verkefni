{
 "cells": [
  {
   "cell_type": "code",
   "execution_count": 138,
   "metadata": {},
   "outputs": [],
   "source": [
    "import copy\n",
    "from pathlib import Path\n",
    "\n",
    "import scipy.io.wavfile as wav\n",
    "import numpy as np\n",
    "from sklearn import preprocessing\n",
    "\n",
    "from python_speech_features import mfcc\n",
    "from python_speech_features import delta\n",
    "\n",
    "import matplotlib.pyplot as plt\n",
    "\n",
    "from sklearn.ensemble import RandomForestClassifier\n",
    "from sklearn.metrics import confusion_matrix\n",
    "from sklearn.metrics import classification_report\n",
    "from sklearn.metrics import precision_score\n"
   ]
  },
  {
   "cell_type": "code",
   "execution_count": null,
   "metadata": {},
   "outputs": [
    {
     "name": "stdout",
     "output_type": "stream",
     "text": [
      "reggae\n",
      "metal\n",
      "blues\n",
      "country\n",
      "classical\n",
      "pop\n",
      "jazz\n"
     ]
    }
   ],
   "source": [
    "genres = {'reggae': 0, 'metal': 1, 'blues': 2, 'country': 3,\n",
    "         'classical': 4, 'pop': 5, 'jazz': 6, 'rock': 7,\n",
    "         'hiphop': 8, 'disco': 9}\n",
    "#Genres\n",
    "# 0: reggae\n",
    "# 1: metal\n",
    "# 2: blues\n",
    "# 3: country\n",
    "# 4: classical\n",
    "# 5: pop\n",
    "# 6: jazz\n",
    "# 7: rock\n",
    "# 8: hiphop\n",
    "# 9: disco\n",
    "\n",
    "def_rate = 22050\n",
    "\n",
    "def readSongs(duration):\n",
    "    pathlist = Path('../genres').glob('**/*.wav')\n",
    "    \n",
    "    song_sigs = {'reggae': [], 'metal': [], 'blues': [], 'country': [],\n",
    "         'classical': [], 'pop': [], 'jazz': [], 'rock': [],\n",
    "         'hiphop': [], 'disco': []}\n",
    "    \n",
    "    train_sigs = copy.deepcopy(song_sigs)\n",
    "    test_sigs = copy.deepcopy(song_sigs)\n",
    "    \n",
    "    for path in pathlist:\n",
    "        p = str(path)\n",
    "        genre = p.split('/')[2]\n",
    "        (rate, sig) = wav.read(p)\n",
    "        sig = sig[:rate*duration]\n",
    "        song_sigs[genre].append(sig)\n",
    "    \n",
    "    for key in song_sigs:\n",
    "        #################\n",
    "        #100-70-70 breyting\n",
    "        perm = np.random.permutation(100)\n",
    "        train = perm[:70]\n",
    "        test = perm[70:]\n",
    "        ###############3\n",
    "        \n",
    "        train_sigs[key] = np.array(song_sigs[key])[train]\n",
    "        test_sigs[key] = np.array(song_sigs[key])[test]\n",
    "    return train_sigs, test_sigs\n",
    "\n",
    "def extractFeatures(signals, sample_len):\n",
    "    features = []\n",
    "    labels = []\n",
    "    for key in signals:\n",
    "        print(key)\n",
    "        for sig in signals[key]:\n",
    "            no_samples = int((len(sig)/def_rate)/sample_len)\n",
    "            part_len = def_rate*sample_len\n",
    "            for i in range(no_samples):\n",
    "                part = sig[i*part_len:(i+1)*part_len]\n",
    "                mfcc_feat = mfcc(part, def_rate, nfft=551)\n",
    "                d_mfcc_feat = delta(mfcc_feat, 2)\n",
    "                dd_mfcc_feat = delta(d_mfcc_feat, 2)\n",
    "                \n",
    "                #Cast to single vector\n",
    "                sample = np.hstack((np.hstack((mfcc_feat.flatten(), d_mfcc_feat.flatten())), dd_mfcc_feat.flatten()))\n",
    "                features.append(sample)\n",
    "                labels.append(genres[key])\n",
    "                \n",
    "    return features, labels\n",
    "\n",
    "def getData(duration, sample_len):\n",
    "    train_signal, test_signal = readSongs(duration)\n",
    "    \n",
    "    train_feat, train_label = extractFeatures(train_signal, sample_len)\n",
    "    test_feat, test_label = extractFeatures(test_signal, sample_len)\n",
    "    \n",
    "    scaler = preprocessing.StandardScaler().fit(train_feat)\n",
    "    train_feat = scaler.transform(train_feat)\n",
    "    test_feat = scaler.transform(test_feat)\n",
    "    \n",
    "    return train_feat, train_label, test_feat, test_label\n",
    "\n",
    "def createForest(duration, sample_len):\n",
    "    trf, trl, tef, tel = getData(duration, sample_len)\n",
    "    \n",
    "    rf = RandomForestClassifier(n_jobs=-1, n_estimators=100, max_features='sqrt', oob_score=True)\n",
    "    rf.fit(trf, trl)\n",
    "    \n",
    "    return rf, tef, tel\n",
    "\n",
    "def songWeightedPred(rf, feat, label, no_samples):\n",
    "    truth = []\n",
    "    pred = []\n",
    "    for i in range(int(feat.shape[0]/no_samples)):\n",
    "        if i%10 == 0:\n",
    "            print(i)\n",
    "        truth.append(label[i*7])\n",
    "        \n",
    "        pr = rf.predict_proba(feat[i*no_samples:(i+1)*no_samples,:])\n",
    "        pr = np.sum(pr, axis=0)/no_samples\n",
    "        pred.append(np.argmax(pr))\n",
    "    return truth, pred\n",
    "\n",
    "def testModel(duration, sample_len):\n",
    "    rf, tef, tel = createForest(duration, sample_len)\n",
    "    \n",
    "    tar_names = list(genres.keys())\n",
    "    pred = rf.predict(tef)\n",
    "    print(confusion_matrix(tel, pred))\n",
    "    print(classification_report(tel, pred, target_names=tar_names))\n",
    "          \n",
    "    tr, pr = songWeightedPred(rf, tef, tel, int(duration/sample_len))\n",
    "    print(np.where(tr==np.array(pr))[0].shape[0]/300)\n",
    "\n",
    "    print(confusion_matrix(tr, pr))\n",
    "    print(classification_report(tr, pr, target_names=tar_names))\n",
    "\n",
    "rf_21_3 = testModel(21, 3)"
   ]
  },
  {
   "cell_type": "code",
   "execution_count": 76,
   "metadata": {
    "scrolled": true
   },
   "outputs": [
    {
     "name": "stdout",
     "output_type": "stream",
     "text": [
      "RF Out-of-bag error rate:  0.4648979591836735\n"
     ]
    },
    {
     "data": {
      "text/plain": [
       "0.5352380952380953"
      ]
     },
     "execution_count": 76,
     "metadata": {},
     "output_type": "execute_result"
    }
   ],
   "source": [
    "rf = RandomForestClassifier(n_jobs=-1, n_estimators=1000, max_features='sqrt', oob_score=True)\n",
    "rf.fit(trf_21_3, trl_21_3)\n",
    "print(\"RF Out-of-bag error rate: \", 1-rf.oob_score_)\n",
    "\n",
    "rf.score(tef_21_3, tel_21_3)"
   ]
  },
  {
   "cell_type": "code",
   "execution_count": 87,
   "metadata": {},
   "outputs": [
    {
     "name": "stdout",
     "output_type": "stream",
     "text": [
      "[[ 79   3   8  14   5  32  12   6  39  12]\n",
      " [  0 179   3   0   0   0   0  25   0   3]\n",
      " [  2  39 117   6  10   0  17  12   3   4]\n",
      " [  7  13  16  66   2  12  39  35   6  14]\n",
      " [  0   0   0   3 188   0  10   7   0   2]\n",
      " [  6   0   0  16   1 172   7   1   4   3]\n",
      " [  1   0  11  13  24  27 127   1   3   3]\n",
      " [  6  34  35  14   6  25  31  44   4  11]\n",
      " [ 27  15   1   1   4  50   7  12  84   9]\n",
      " [ 19  17   4   7   0  48   8  23  16  68]]\n",
      "             precision    recall  f1-score   support\n",
      "\n",
      "     reggae       0.54      0.38      0.44       210\n",
      "      metal       0.60      0.85      0.70       210\n",
      "      blues       0.60      0.56      0.58       210\n",
      "    country       0.47      0.31      0.38       210\n",
      "  classical       0.78      0.90      0.84       210\n",
      "        pop       0.47      0.82      0.60       210\n",
      "       jazz       0.49      0.60      0.54       210\n",
      "       rock       0.27      0.21      0.23       210\n",
      "     hiphop       0.53      0.40      0.46       210\n",
      "      disco       0.53      0.32      0.40       210\n",
      "\n",
      "avg / total       0.53      0.54      0.52      2100\n",
      "\n"
     ]
    }
   ],
   "source": [
    "pred = rf.predict(tef_21_3)\n",
    "cm = confusion_matrix(tel_21_3, pred)\n",
    "print(cm)\n",
    "\n",
    "target_names = ['reggae', 'metal', 'blues', 'country', 'classical',\n",
    "               'pop', 'jazz', 'rock', 'hiphop', 'disco']\n",
    "print(classification_report(tel_21_3, pred, target_names=target_names))"
   ]
  },
  {
   "cell_type": "code",
   "execution_count": 123,
   "metadata": {},
   "outputs": [
    {
     "name": "stdout",
     "output_type": "stream",
     "text": [
      "0\n",
      "10\n",
      "20\n",
      "30\n",
      "40\n",
      "50\n",
      "60\n",
      "70\n",
      "80\n",
      "90\n",
      "100\n",
      "110\n",
      "120\n",
      "130\n",
      "140\n",
      "150\n",
      "160\n",
      "170\n",
      "180\n",
      "190\n",
      "200\n",
      "210\n",
      "220\n",
      "230\n",
      "240\n",
      "250\n",
      "260\n",
      "270\n",
      "280\n",
      "290\n",
      "0\n"
     ]
    },
    {
     "name": "stderr",
     "output_type": "stream",
     "text": [
      "/usr/local/lib/python3.6/dist-packages/ipykernel_launcher.py:19: DeprecationWarning: elementwise == comparison failed; this will raise an error in the future.\n"
     ]
    }
   ],
   "source": [
    "def songPred(forest, feat, label):\n",
    "    truth = []\n",
    "    pred = []\n",
    "    for i in range(int(feat.shape[0]/7)):\n",
    "        if i%10 == 0:\n",
    "            print(i)\n",
    "        truth.append(label[i*7])\n",
    "        \n",
    "        pr = rf.predict_proba(feat[i*7:(i+1)*7,:])\n",
    "#         print(pred)\n",
    "        pr = np.sum(pr, axis=0)/7\n",
    "#         print(pred)\n",
    "#         print(np.argmax(pred))\n",
    "        pred.append(np.argmax(pr))\n",
    "    return truth, pred\n",
    "    \n",
    "tr, pr = songPred(rf, tef_21_3, tel_21_3)\n",
    "\n",
    "print(np.where(tr==pred)[0].shape[0])\n"
   ]
  },
  {
   "cell_type": "code",
   "execution_count": 143,
   "metadata": {},
   "outputs": [
    {
     "name": "stdout",
     "output_type": "stream",
     "text": [
      "0.5766666666666667\n",
      "[[12  0  1  1  0  5  3  1  6  1]\n",
      " [ 0 26  0  0  0  0  0  4  0  0]\n",
      " [ 0  6 16  1  2  0  2  2  1  0]\n",
      " [ 1  1  1 12  0  2  5  5  0  3]\n",
      " [ 0  0  0  0 29  0  1  0  0  0]\n",
      " [ 0  0  0  3  0 26  1  0  0  0]\n",
      " [ 0  0  1  1  4  4 19  0  0  1]\n",
      " [ 0  4  5  1  0  3  6  8  0  3]\n",
      " [ 4  1  0  0  0  8  1  3 12  1]\n",
      " [ 4  0  0  1  0  7  1  2  2 13]]\n",
      "             precision    recall  f1-score   support\n",
      "\n",
      "     reggae       0.57      0.40      0.47        30\n",
      "      metal       0.68      0.87      0.76        30\n",
      "      blues       0.67      0.53      0.59        30\n",
      "    country       0.60      0.40      0.48        30\n",
      "  classical       0.83      0.97      0.89        30\n",
      "        pop       0.47      0.87      0.61        30\n",
      "       jazz       0.49      0.63      0.55        30\n",
      "       rock       0.32      0.27      0.29        30\n",
      "     hiphop       0.57      0.40      0.47        30\n",
      "      disco       0.59      0.43      0.50        30\n",
      "\n",
      "avg / total       0.58      0.58      0.56       300\n",
      "\n"
     ]
    }
   ],
   "source": [
    "print(np.where(tr==np.array(pr))[0].shape[0]/300)\n",
    "\n",
    "cm = confusion_matrix(tr, pr)\n",
    "print(cm)\n",
    "\n",
    "# target_names = ['reggae', 'metal', 'blues', 'country', 'classical',\n",
    "#                'pop', 'jazz', 'rock', 'hiphop', 'disco']\n",
    "print(classification_report(tr, pr, target_names=target_names))"
   ]
  },
  {
   "cell_type": "code",
   "execution_count": 146,
   "metadata": {},
   "outputs": [
    {
     "name": "stdout",
     "output_type": "stream",
     "text": [
      "['reggae', 'metal', 'blues', 'country', 'classical', 'pop', 'jazz', 'rock', 'hiphop', 'disco']\n"
     ]
    }
   ],
   "source": [
    "print(list(genres.keys()))"
   ]
  },
  {
   "cell_type": "code",
   "execution_count": null,
   "metadata": {},
   "outputs": [],
   "source": []
  }
 ],
 "metadata": {
  "kernelspec": {
   "display_name": "Python 3",
   "language": "python",
   "name": "python3"
  },
  "language_info": {
   "codemirror_mode": {
    "name": "ipython",
    "version": 3
   },
   "file_extension": ".py",
   "mimetype": "text/x-python",
   "name": "python",
   "nbconvert_exporter": "python",
   "pygments_lexer": "ipython3",
   "version": "3.6.3"
  }
 },
 "nbformat": 4,
 "nbformat_minor": 2
}
