{
 "cells": [
  {
   "cell_type": "code",
   "execution_count": 1,
   "metadata": {},
   "outputs": [
    {
     "name": "stdout",
     "output_type": "stream",
     "text": [
      "1000\n",
      "(1000, 617400)\n",
      "(1000,)\n"
     ]
    }
   ],
   "source": [
    "from pathlib import Path\n",
    "import scipy.io.wavfile as wav\n",
    "import numpy as np\n",
    "\n",
    "genres = {'reggae': 0, 'metal': 1, 'blues': 2, 'country': 3,\n",
    "         'classical': 4, 'pop': 5, 'jazz': 6, 'rock': 7,\n",
    "         'hiphop': 8, 'disco': 9}\n",
    "#Genres\n",
    "# 0: reggae\n",
    "# 1: metal\n",
    "# 2: blues\n",
    "# 3: country\n",
    "# 4: classical\n",
    "# 5: pop\n",
    "# 6: jazz\n",
    "# 7: rock\n",
    "# 8: hiphop\n",
    "# 9: disco\n",
    "\n",
    "rate = 22050\n",
    "length = 28 #seconds\n",
    "sig_length = rate*length\n",
    "\n",
    "song_sigs = []\n",
    "song_genres = []\n",
    "pathlist = Path('../genres').glob('**/*.wav')\n",
    "\n",
    "i = 0\n",
    "for path in pathlist:\n",
    "    p = str(path)\n",
    "    genre = p.split('/')[2]\n",
    "#     print(genre)\n",
    "    (rate, sig) = wav.read(p)\n",
    "    sig = sig[:sig_length]\n",
    "    song_sigs.append(sig)\n",
    "    song_genres.append(genres[genre])\n",
    "    \n",
    "print(len(song_sigs))\n",
    "song_sigs = np.array(song_sigs)\n",
    "song_genres = np.array(song_genres)\n",
    "print(song_sigs.shape)\n",
    "print(song_genres.shape)\n",
    "\n",
    "# data = {'signals': song_sigs, 'genres': song_genres}\n",
    "# np.savez('raw_signal', data)"
   ]
  },
  {
   "cell_type": "code",
   "execution_count": 22,
   "metadata": {},
   "outputs": [
    {
     "name": "stdout",
     "output_type": "stream",
     "text": [
      "(39, 2793)\n"
     ]
    }
   ],
   "source": [
    "from python_speech_features import mfcc\n",
    "from python_speech_features import delta\n",
    "\n",
    "frame_list = []\n",
    "for song in song_sigs:\n",
    "    mfcc_feat = mfcc(song, rate, nfft=551)\n",
    "    d_mfcc_feat = delta(mfcc_feat, 2)\n",
    "    dd_mfcc_feat = delta(d_mfcc_feat, 2)\n",
    "    ret = np.hstack((mfcc_feat, d_mfcc_feat))\n",
    "    ret = np.hstack((ret, dd_mfcc_feat))\n",
    "    \n",
    "    frame_list.append(ret.T)\n",
    "print(frame_list[0].shape)"
   ]
  },
  {
   "cell_type": "code",
   "execution_count": 23,
   "metadata": {},
   "outputs": [
    {
     "name": "stdout",
     "output_type": "stream",
     "text": [
      "(2793000, 39)\n"
     ]
    }
   ],
   "source": [
    "frame_list = np.concatenate(frame_list, axis=1).T\n",
    "print(frame_list.shape)"
   ]
  },
  {
   "cell_type": "code",
   "execution_count": 16,
   "metadata": {},
   "outputs": [
    {
     "name": "stdout",
     "output_type": "stream",
     "text": [
      "RF Out-of-bag error rate:  0.51718\n"
     ]
    },
    {
     "data": {
      "text/plain": [
       "0.51168"
      ]
     },
     "execution_count": 16,
     "metadata": {},
     "output_type": "execute_result"
    }
   ],
   "source": [
    "from sklearn.ensemble import RandomForestClassifier\n",
    "\n",
    "perm = np.random.permutation(np.arange(frame_list.shape[0]))\n",
    "train = perm[0:100000]\n",
    "test = perm[500000:550000]\n",
    "frame_genre = np.repeat(np.arange(10), frame_list.shape[0]/10)\n",
    "\n",
    "rf = RandomForestClassifier(n_jobs=-1, n_estimators=100, max_features='sqrt', oob_score=True)\n",
    "rf.fit(frame_list[train], frame_genre[train])\n",
    "\n",
    "print(\"RF Out-of-bag error rate: \", 1-rf.oob_score_)\n",
    "rf.score(frame_list[test], frame_genre[test])"
   ]
  },
  {
   "cell_type": "code",
   "execution_count": 19,
   "metadata": {},
   "outputs": [
    {
     "name": "stdout",
     "output_type": "stream",
     "text": [
      "(28221, 13)\n",
      "[5 0 3 8 6 4 9 7 2 1]\n",
      "[7380   99  371 2734 1833 8636 2352  496 2648 1672]\n"
     ]
    }
   ],
   "source": [
    "(rate, sig) = wav.read('../test/HipHopTest/2.wav')\n",
    "mfcc_feat = mfcc(sig, rate, nfft=551)\n",
    "d_mfcc_feat = delta(mfcc_feat, 2)\n",
    "dd_mfcc_feat = delta(d_mfcc_feat, 2)\n",
    "tmp = np.hstack((mfcc_feat, d_mfcc_feat))\n",
    "tmp = np.hstack((tmp, dd_mfcc_feat))\n",
    "print(mfcc_feat.shape)\n",
    "\n",
    "s = rf.predict(tmp)\n",
    "\n",
    "print(np.argsort(np.bincount(s))[::-1])\n",
    "print(np.bincount(s))"
   ]
  },
  {
   "cell_type": "code",
   "execution_count": null,
   "metadata": {},
   "outputs": [],
   "source": [
    "s = rf.predict(mfcc_feat)\n"
   ]
  },
  {
   "cell_type": "code",
   "execution_count": null,
   "metadata": {},
   "outputs": [],
   "source": []
  },
  {
   "cell_type": "code",
   "execution_count": 3,
   "metadata": {},
   "outputs": [
    {
     "ename": "KeyboardInterrupt",
     "evalue": "",
     "output_type": "error",
     "traceback": [
      "\u001b[0;31m---------------------------------------------------------------------------\u001b[0m",
      "\u001b[0;31mKeyboardInterrupt\u001b[0m                         Traceback (most recent call last)",
      "\u001b[0;32m<ipython-input-3-9194cb780d17>\u001b[0m in \u001b[0;36m<module>\u001b[0;34m()\u001b[0m\n\u001b[1;32m      8\u001b[0m \u001b[0;31m# Convert the song clip into a stacked vector\u001b[0m\u001b[0;34m\u001b[0m\u001b[0;34m\u001b[0m\u001b[0m\n\u001b[1;32m      9\u001b[0m \u001b[0;32mfor\u001b[0m \u001b[0msong\u001b[0m \u001b[0;32min\u001b[0m \u001b[0msong_sigs\u001b[0m\u001b[0;34m:\u001b[0m\u001b[0;34m\u001b[0m\u001b[0m\n\u001b[0;32m---> 10\u001b[0;31m     \u001b[0mmfcc_feat\u001b[0m \u001b[0;34m=\u001b[0m \u001b[0mmfcc\u001b[0m\u001b[0;34m(\u001b[0m\u001b[0msong\u001b[0m\u001b[0;34m,\u001b[0m \u001b[0mrate\u001b[0m\u001b[0;34m,\u001b[0m \u001b[0mnfft\u001b[0m\u001b[0;34m=\u001b[0m\u001b[0;36m551\u001b[0m\u001b[0;34m)\u001b[0m\u001b[0;34m\u001b[0m\u001b[0m\n\u001b[0m\u001b[1;32m     11\u001b[0m     \u001b[0mscaled_mfcc_feat\u001b[0m \u001b[0;34m=\u001b[0m \u001b[0mscaler\u001b[0m\u001b[0;34m.\u001b[0m\u001b[0mfit_transform\u001b[0m\u001b[0;34m(\u001b[0m\u001b[0mmfcc_feat\u001b[0m\u001b[0;34m.\u001b[0m\u001b[0mT\u001b[0m\u001b[0;34m)\u001b[0m\u001b[0;34m.\u001b[0m\u001b[0mT\u001b[0m\u001b[0;34m\u001b[0m\u001b[0m\n\u001b[1;32m     12\u001b[0m \u001b[0;34m\u001b[0m\u001b[0m\n",
      "\u001b[0;32m~/.local/lib/python3.6/site-packages/python_speech_features/base.py\u001b[0m in \u001b[0;36mmfcc\u001b[0;34m(signal, samplerate, winlen, winstep, numcep, nfilt, nfft, lowfreq, highfreq, preemph, ceplifter, appendEnergy, winfunc)\u001b[0m\n\u001b[1;32m     26\u001b[0m     \u001b[0;34m:\u001b[0m\u001b[0mreturns\u001b[0m\u001b[0;34m:\u001b[0m \u001b[0mA\u001b[0m \u001b[0mnumpy\u001b[0m \u001b[0marray\u001b[0m \u001b[0mof\u001b[0m \u001b[0msize\u001b[0m \u001b[0;34m(\u001b[0m\u001b[0mNUMFRAMES\u001b[0m \u001b[0mby\u001b[0m \u001b[0mnumcep\u001b[0m\u001b[0;34m)\u001b[0m \u001b[0mcontaining\u001b[0m \u001b[0mfeatures\u001b[0m\u001b[0;34m.\u001b[0m \u001b[0mEach\u001b[0m \u001b[0mrow\u001b[0m \u001b[0mholds\u001b[0m \u001b[0;36m1\u001b[0m \u001b[0mfeature\u001b[0m \u001b[0mvector\u001b[0m\u001b[0;34m.\u001b[0m\u001b[0;34m\u001b[0m\u001b[0m\n\u001b[1;32m     27\u001b[0m     \"\"\"\n\u001b[0;32m---> 28\u001b[0;31m     \u001b[0mfeat\u001b[0m\u001b[0;34m,\u001b[0m\u001b[0menergy\u001b[0m \u001b[0;34m=\u001b[0m \u001b[0mfbank\u001b[0m\u001b[0;34m(\u001b[0m\u001b[0msignal\u001b[0m\u001b[0;34m,\u001b[0m\u001b[0msamplerate\u001b[0m\u001b[0;34m,\u001b[0m\u001b[0mwinlen\u001b[0m\u001b[0;34m,\u001b[0m\u001b[0mwinstep\u001b[0m\u001b[0;34m,\u001b[0m\u001b[0mnfilt\u001b[0m\u001b[0;34m,\u001b[0m\u001b[0mnfft\u001b[0m\u001b[0;34m,\u001b[0m\u001b[0mlowfreq\u001b[0m\u001b[0;34m,\u001b[0m\u001b[0mhighfreq\u001b[0m\u001b[0;34m,\u001b[0m\u001b[0mpreemph\u001b[0m\u001b[0;34m,\u001b[0m\u001b[0mwinfunc\u001b[0m\u001b[0;34m)\u001b[0m\u001b[0;34m\u001b[0m\u001b[0m\n\u001b[0m\u001b[1;32m     29\u001b[0m     \u001b[0mfeat\u001b[0m \u001b[0;34m=\u001b[0m \u001b[0mnumpy\u001b[0m\u001b[0;34m.\u001b[0m\u001b[0mlog\u001b[0m\u001b[0;34m(\u001b[0m\u001b[0mfeat\u001b[0m\u001b[0;34m)\u001b[0m\u001b[0;34m\u001b[0m\u001b[0m\n\u001b[1;32m     30\u001b[0m     \u001b[0mfeat\u001b[0m \u001b[0;34m=\u001b[0m \u001b[0mdct\u001b[0m\u001b[0;34m(\u001b[0m\u001b[0mfeat\u001b[0m\u001b[0;34m,\u001b[0m \u001b[0mtype\u001b[0m\u001b[0;34m=\u001b[0m\u001b[0;36m2\u001b[0m\u001b[0;34m,\u001b[0m \u001b[0maxis\u001b[0m\u001b[0;34m=\u001b[0m\u001b[0;36m1\u001b[0m\u001b[0;34m,\u001b[0m \u001b[0mnorm\u001b[0m\u001b[0;34m=\u001b[0m\u001b[0;34m'ortho'\u001b[0m\u001b[0;34m)\u001b[0m\u001b[0;34m[\u001b[0m\u001b[0;34m:\u001b[0m\u001b[0;34m,\u001b[0m\u001b[0;34m:\u001b[0m\u001b[0mnumcep\u001b[0m\u001b[0;34m]\u001b[0m\u001b[0;34m\u001b[0m\u001b[0m\n",
      "\u001b[0;32m~/.local/lib/python3.6/site-packages/python_speech_features/base.py\u001b[0m in \u001b[0;36mfbank\u001b[0;34m(signal, samplerate, winlen, winstep, nfilt, nfft, lowfreq, highfreq, preemph, winfunc)\u001b[0m\n\u001b[1;32m     53\u001b[0m     \u001b[0mhighfreq\u001b[0m\u001b[0;34m=\u001b[0m \u001b[0mhighfreq\u001b[0m \u001b[0;32mor\u001b[0m \u001b[0msamplerate\u001b[0m\u001b[0;34m/\u001b[0m\u001b[0;36m2\u001b[0m\u001b[0;34m\u001b[0m\u001b[0m\n\u001b[1;32m     54\u001b[0m     \u001b[0msignal\u001b[0m \u001b[0;34m=\u001b[0m \u001b[0msigproc\u001b[0m\u001b[0;34m.\u001b[0m\u001b[0mpreemphasis\u001b[0m\u001b[0;34m(\u001b[0m\u001b[0msignal\u001b[0m\u001b[0;34m,\u001b[0m\u001b[0mpreemph\u001b[0m\u001b[0;34m)\u001b[0m\u001b[0;34m\u001b[0m\u001b[0m\n\u001b[0;32m---> 55\u001b[0;31m     \u001b[0mframes\u001b[0m \u001b[0;34m=\u001b[0m \u001b[0msigproc\u001b[0m\u001b[0;34m.\u001b[0m\u001b[0mframesig\u001b[0m\u001b[0;34m(\u001b[0m\u001b[0msignal\u001b[0m\u001b[0;34m,\u001b[0m \u001b[0mwinlen\u001b[0m\u001b[0;34m*\u001b[0m\u001b[0msamplerate\u001b[0m\u001b[0;34m,\u001b[0m \u001b[0mwinstep\u001b[0m\u001b[0;34m*\u001b[0m\u001b[0msamplerate\u001b[0m\u001b[0;34m,\u001b[0m \u001b[0mwinfunc\u001b[0m\u001b[0;34m)\u001b[0m\u001b[0;34m\u001b[0m\u001b[0m\n\u001b[0m\u001b[1;32m     56\u001b[0m     \u001b[0mpspec\u001b[0m \u001b[0;34m=\u001b[0m \u001b[0msigproc\u001b[0m\u001b[0;34m.\u001b[0m\u001b[0mpowspec\u001b[0m\u001b[0;34m(\u001b[0m\u001b[0mframes\u001b[0m\u001b[0;34m,\u001b[0m\u001b[0mnfft\u001b[0m\u001b[0;34m)\u001b[0m\u001b[0;34m\u001b[0m\u001b[0m\n\u001b[1;32m     57\u001b[0m     \u001b[0menergy\u001b[0m \u001b[0;34m=\u001b[0m \u001b[0mnumpy\u001b[0m\u001b[0;34m.\u001b[0m\u001b[0msum\u001b[0m\u001b[0;34m(\u001b[0m\u001b[0mpspec\u001b[0m\u001b[0;34m,\u001b[0m\u001b[0;36m1\u001b[0m\u001b[0;34m)\u001b[0m \u001b[0;31m# this stores the total energy in each frame\u001b[0m\u001b[0;34m\u001b[0m\u001b[0m\n",
      "\u001b[0;32m~/.local/lib/python3.6/site-packages/python_speech_features/sigproc.py\u001b[0m in \u001b[0;36mframesig\u001b[0;34m(sig, frame_len, frame_step, winfunc)\u001b[0m\n\u001b[1;32m     33\u001b[0m     \u001b[0mpadsignal\u001b[0m \u001b[0;34m=\u001b[0m \u001b[0mnumpy\u001b[0m\u001b[0;34m.\u001b[0m\u001b[0mconcatenate\u001b[0m\u001b[0;34m(\u001b[0m\u001b[0;34m(\u001b[0m\u001b[0msig\u001b[0m\u001b[0;34m,\u001b[0m\u001b[0mzeros\u001b[0m\u001b[0;34m)\u001b[0m\u001b[0;34m)\u001b[0m\u001b[0;34m\u001b[0m\u001b[0m\n\u001b[1;32m     34\u001b[0m \u001b[0;34m\u001b[0m\u001b[0m\n\u001b[0;32m---> 35\u001b[0;31m     \u001b[0mindices\u001b[0m \u001b[0;34m=\u001b[0m \u001b[0mnumpy\u001b[0m\u001b[0;34m.\u001b[0m\u001b[0mtile\u001b[0m\u001b[0;34m(\u001b[0m\u001b[0mnumpy\u001b[0m\u001b[0;34m.\u001b[0m\u001b[0marange\u001b[0m\u001b[0;34m(\u001b[0m\u001b[0;36m0\u001b[0m\u001b[0;34m,\u001b[0m\u001b[0mframe_len\u001b[0m\u001b[0;34m)\u001b[0m\u001b[0;34m,\u001b[0m\u001b[0;34m(\u001b[0m\u001b[0mnumframes\u001b[0m\u001b[0;34m,\u001b[0m\u001b[0;36m1\u001b[0m\u001b[0;34m)\u001b[0m\u001b[0;34m)\u001b[0m \u001b[0;34m+\u001b[0m \u001b[0mnumpy\u001b[0m\u001b[0;34m.\u001b[0m\u001b[0mtile\u001b[0m\u001b[0;34m(\u001b[0m\u001b[0mnumpy\u001b[0m\u001b[0;34m.\u001b[0m\u001b[0marange\u001b[0m\u001b[0;34m(\u001b[0m\u001b[0;36m0\u001b[0m\u001b[0;34m,\u001b[0m\u001b[0mnumframes\u001b[0m\u001b[0;34m*\u001b[0m\u001b[0mframe_step\u001b[0m\u001b[0;34m,\u001b[0m\u001b[0mframe_step\u001b[0m\u001b[0;34m)\u001b[0m\u001b[0;34m,\u001b[0m\u001b[0;34m(\u001b[0m\u001b[0mframe_len\u001b[0m\u001b[0;34m,\u001b[0m\u001b[0;36m1\u001b[0m\u001b[0;34m)\u001b[0m\u001b[0;34m)\u001b[0m\u001b[0;34m.\u001b[0m\u001b[0mT\u001b[0m\u001b[0;34m\u001b[0m\u001b[0m\n\u001b[0m\u001b[1;32m     36\u001b[0m     \u001b[0mindices\u001b[0m \u001b[0;34m=\u001b[0m \u001b[0mnumpy\u001b[0m\u001b[0;34m.\u001b[0m\u001b[0marray\u001b[0m\u001b[0;34m(\u001b[0m\u001b[0mindices\u001b[0m\u001b[0;34m,\u001b[0m\u001b[0mdtype\u001b[0m\u001b[0;34m=\u001b[0m\u001b[0mnumpy\u001b[0m\u001b[0;34m.\u001b[0m\u001b[0mint32\u001b[0m\u001b[0;34m)\u001b[0m\u001b[0;34m\u001b[0m\u001b[0m\n\u001b[1;32m     37\u001b[0m     \u001b[0mframes\u001b[0m \u001b[0;34m=\u001b[0m \u001b[0mpadsignal\u001b[0m\u001b[0;34m[\u001b[0m\u001b[0mindices\u001b[0m\u001b[0;34m]\u001b[0m\u001b[0;34m\u001b[0m\u001b[0m\n",
      "\u001b[0;31mKeyboardInterrupt\u001b[0m: "
     ]
    }
   ],
   "source": [
    "import matplotlib.pyplot as plt\n",
    "from python_speech_features import mfcc\n",
    "from python_speech_features import delta\n",
    "from sklearn.preprocessing import StandardScaler\n",
    "\n",
    "mfcc_list = []\n",
    "scaler = StandardScaler()\n",
    "# Convert the song clip into a stacked vector\n",
    "for song in song_sigs:\n",
    "    mfcc_feat = mfcc(song, rate, nfft=551)\n",
    "    scaled_mfcc_feat = scaler.fit_transform(mfcc_feat.T).T\n",
    "    \n",
    "    d_mfcc_feat = delta(mfcc_feat, 2)\n",
    "    scaled_d_mfcc_feat = scaler.fit_transform(d_mfcc_feat.T).T\n",
    "    \n",
    "    dd_mfcc_feat = delta(d_mfcc_feat, 2)\n",
    "    scaled_dd_mfcc_feat = scaler.fit_transform(dd_mfcc_feat.T).T\n",
    "    \n",
    "    ret = np.vstack((scaled_mfcc_feat, scaled_d_mfcc_feat))\n",
    "    ret = np.vstack((ret, scaled_dd_mfcc_feat))\n",
    "    \n",
    "    mfcc_list.append(ret)\n",
    "    \n",
    "#     break\n",
    "mfcc_list = np.array(mfcc_list)\n"
   ]
  },
  {
   "cell_type": "code",
   "execution_count": null,
   "metadata": {},
   "outputs": [],
   "source": [
    "flat_list = []\n",
    "for m in mfcc_list:\n",
    "    flat_list.append(m.flatten())\n",
    "flat_list = np.array(flat_list)"
   ]
  },
  {
   "cell_type": "code",
   "execution_count": null,
   "metadata": {},
   "outputs": [],
   "source": [
    "print(np.max(flat_list), np.min(flat_list))"
   ]
  },
  {
   "cell_type": "code",
   "execution_count": null,
   "metadata": {},
   "outputs": [],
   "source": [
    "from sklearn.decomposition import PCA\n",
    "\n",
    "pca = PCA(n_components=2)\n",
    "pca_data = pca.fit_transform(flat_list)"
   ]
  },
  {
   "cell_type": "code",
   "execution_count": null,
   "metadata": {},
   "outputs": [],
   "source": [
    "y_song=np.repeat(np.arange(10), 100)\n",
    "\n",
    "plt.scatter(pca_data[:,0], pca_data[:,1],\n",
    "           c=y_song, cmap=plt.cm.get_cmap('Paired', 10))\n",
    "plt.title('PCA')\n",
    "plt.colorbar(ticks=range(10))\n",
    "plt.show()\n"
   ]
  },
  {
   "cell_type": "code",
   "execution_count": null,
   "metadata": {},
   "outputs": [],
   "source": [
    "from sklearn.ensemble import RandomForestClassifier\n",
    "\n",
    "rf = RandomForestClassifier(n_jobs=-1, n_estimators=500, max_features='sqrt', oob_score=True)\n",
    "rf.fit(flat_list[train], y_song[train])\n",
    "\n",
    "print(\"RF Out-of-bag error rate: \", 1-rf.oob_score_)\n",
    "rf.score(flat_list[test], y_song[test])"
   ]
  },
  {
   "cell_type": "code",
   "execution_count": null,
   "metadata": {},
   "outputs": [],
   "source": [
    "from sklearn import svm\n",
    "\n",
    "perm = np.random.permutation(np.arange(1000))\n",
    "train = perm[0:700]\n",
    "test = perm[700:1000]\n",
    "\n",
    "clf = svm.SVC()\n",
    "clf.fit(flat_list[train], y_song[train])\n",
    "clf.score(flat_list[test], y_song[test])"
   ]
  },
  {
   "cell_type": "code",
   "execution_count": null,
   "metadata": {},
   "outputs": [],
   "source": []
  }
 ],
 "metadata": {
  "kernelspec": {
   "display_name": "Python 3",
   "language": "python",
   "name": "python3"
  },
  "language_info": {
   "codemirror_mode": {
    "name": "ipython",
    "version": 3
   },
   "file_extension": ".py",
   "mimetype": "text/x-python",
   "name": "python",
   "nbconvert_exporter": "python",
   "pygments_lexer": "ipython3",
   "version": "3.6.3"
  }
 },
 "nbformat": 4,
 "nbformat_minor": 2
}
