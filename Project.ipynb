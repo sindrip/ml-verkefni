{
 "cells": [
  {
   "cell_type": "code",
   "execution_count": 1,
   "metadata": {},
   "outputs": [],
   "source": [
    "import copy\n",
    "from pathlib import Path\n",
    "\n",
    "import scipy.io.wavfile as wav\n",
    "import numpy as np\n",
    "from sklearn import preprocessing\n",
    "\n",
    "from python_speech_features import mfcc\n",
    "from python_speech_features import delta\n",
    "\n",
    "import matplotlib.pyplot as plt\n",
    "\n",
    "from sklearn.ensemble import RandomForestClassifier\n",
    "from sklearn.metrics import confusion_matrix\n",
    "from sklearn.metrics import classification_report\n",
    "from sklearn.metrics import precision_score\n",
    "from sklearn.model_selection import StratifiedKFold\n",
    "from sklearn.metrics import precision_recall_fscore_support"
   ]
  },
  {
   "cell_type": "code",
   "execution_count": 16,
   "metadata": {},
   "outputs": [],
   "source": [
    "genres = {'reggae': 0, 'metal': 1, 'blues': 2, 'country': 3,\n",
    "         'classical': 4, 'pop': 5, 'jazz': 6, 'rock': 7,\n",
    "         'hiphop': 8, 'disco': 9}\n",
    "\n",
    "#Genres\n",
    "# 0: reggae\n",
    "# 1: metal\n",
    "# 2: blues\n",
    "# 3: country\n",
    "# 4: classical\n",
    "# 5: pop\n",
    "# 6: jazz\n",
    "# 7: rock\n",
    "# 8: hiphop\n",
    "# 9: disco\n",
    "\n",
    "def_rate = 22050\n",
    "\n",
    "def readSongs(duration):\n",
    "    pathlist = Path('../genres').glob('**/*.wav')\n",
    "    \n",
    "    song_sigs = {'reggae': [], 'metal': [], 'blues': [], 'country': [],\n",
    "         'classical': [], 'pop': [], 'jazz': [], 'rock': [],\n",
    "         'hiphop': [], 'disco': []}\n",
    "    \n",
    "    train_sigs = []\n",
    "    train_labels = []\n",
    "    test_sigs = []\n",
    "    test_labels = []\n",
    "    \n",
    "    for path in pathlist:\n",
    "        p = str(path)\n",
    "        genre = p.split('/')[2]\n",
    "        (rate, sig) = wav.read(p)\n",
    "        sig = sig[:rate*duration]\n",
    "        song_sigs[genre].append(sig)\n",
    "    \n",
    "    for key in song_sigs:\n",
    "        perm = np.random.permutation(100)\n",
    "        train = perm[:70]\n",
    "        test = perm[70:]\n",
    "        \n",
    "        train_sigs.extend(np.array(song_sigs[key])[train])\n",
    "        train_labels.extend(np.repeat(genres[key], 70))\n",
    "        \n",
    "        test_sigs.extend(np.array(song_sigs[key])[test])\n",
    "        test_labels.extend(np.repeat(genres[key], 30))\n",
    "        \n",
    "    return train_sigs, train_labels, test_sigs, test_labels\n",
    "\n",
    "def extractFeatures(signals, labels, duration, sample_len):\n",
    "    features = []\n",
    "    f_labels = []\n",
    "    no_samples = int(duration/sample_len)\n",
    "    part_len = int(def_rate*sample_len)\n",
    "    for i in range(len(signals)):\n",
    "        lab = labels[i]\n",
    "        sig = signals[i]\n",
    "        \n",
    "        for j in range(no_samples):\n",
    "            part = sig[j*part_len:(j+1)*part_len]\n",
    "\n",
    "            mfcc_feat = mfcc(part, def_rate, nfft=551)\n",
    "            d_mfcc_feat = delta(mfcc_feat, 2)\n",
    "            dd_mfcc_feat = delta(d_mfcc_feat, 2)\n",
    "            #Cast to single vector\n",
    "            sample = np.hstack((np.hstack((mfcc_feat.flatten(), d_mfcc_feat.flatten())), dd_mfcc_feat.flatten()))\n",
    "            features.append(sample)\n",
    "            f_labels.append(lab)\n",
    "            \n",
    "    return features, f_labels\n",
    "\n",
    "def createForest(feat, labels):\n",
    "    rf = RandomForestClassifier(n_jobs=-1, n_estimators=100, max_features='sqrt')\n",
    "    rf.fit(feat, labels)\n",
    "    \n",
    "    return rf\n",
    "\n",
    "def getData(signals, labels, duration, sample_len):\n",
    "    feat, f_labels = extractFeatures(signals, labels, duration, sample_len)\n",
    "    \n",
    "    scaler = preprocessing.StandardScaler().fit(feat)\n",
    "    feat = scaler.transform(feat)\n",
    "    \n",
    "    return np.array(feat), np.array(f_labels)\n",
    "\n",
    "def avgNSamples(a, N):\n",
    "    tmp = np.cumsum(a, 0)[N-1::N]/float(N)\n",
    "    tmp[1:] = tmp[1:] - tmp[:-1]\n",
    "    return tmp\n",
    "\n",
    "def songWeightedPred(rf, feat, label, no_samples):\n",
    "    truth = label[::no_samples]\n",
    "    pred = np.argmax(avgNSamples(rf.predict_proba(feat), no_samples), axis=1)\n",
    "    return truth, pred\n",
    "\n",
    "def validateModel(signals, labels, duration, sample_len):\n",
    "    skf = StratifiedKFold(n_splits=7, shuffle=True)\n",
    "    \n",
    "    print('start features')\n",
    "    trf, trl = getData(signals, labels, duration, sample_len)\n",
    "    print('end features')\n",
    "    \n",
    "    no_samples = int(duration/sample_len)\n",
    "    list_len = np.arange(no_samples)\n",
    "    indices = np.arange(len(signals)) * no_samples\n",
    "    t = np.array(list(map(lambda x: x + list_len, indices)))\n",
    "    \n",
    "    prec_l = []\n",
    "    recall_l = []\n",
    "    fscore_l = []\n",
    "    prec_w = []\n",
    "    recall_w = []\n",
    "    fscore_w = []\n",
    "    for tr_idx, te_idx in skf.split(signals, labels):\n",
    "        new_tridx = t[tr_idx].flatten()\n",
    "        new_teidx = t[te_idx].flatten()\n",
    "        \n",
    "        print('start forest')\n",
    "        rf = createForest(trf[new_tridx], trl[new_tridx])\n",
    "        print('end forest')\n",
    "        pred = rf.predict(trf[new_teidx])\n",
    "        prec, recall, fscore, sup = precision_recall_fscore_support(trl[new_teidx], pred, average='macro')\n",
    "        prec_l.append(prec)\n",
    "        recall_l.append(recall)\n",
    "        fscore_l.append(fscore)\n",
    "#         print(prec_l[-1], recall_l[-1], fscore_l[-1])\n",
    "        \n",
    "        truth_w, pred_w = songWeightedPred(rf, trf[new_teidx], trl[new_teidx], no_samples)\n",
    "        prec, recall, fscore, sup = precision_recall_fscore_support(truth_w, pred_w, average='macro')\n",
    "        prec_w.append(prec)\n",
    "        recall_w.append(recall)\n",
    "        fscore_w.append(fscore)\n",
    "#         print(prec_w[-1], recall_w[-1], fscore_w[-1])\n",
    "        \n",
    "    print(np.average(prec_l), np.average(recall_l), np.average(fscore_l))\n",
    "    print(np.average(prec_w), np.average(recall_w), np.average(fscore_w))\n",
    "\n",
    "        \n",
    "trs, trl, tes, tel = readSongs(28)"
   ]
  },
  {
   "cell_type": "code",
   "execution_count": 38,
   "metadata": {},
   "outputs": [],
   "source": [
    "def testModel(signals, labels, duration, sample_len, train_sigs, train_labs):\n",
    "    t_feat, t_labels = extractFeatures(train_sigs, train_labs, duration, sample_len)\n",
    "    scaler = preprocessing.StandardScaler().fit(t_feat)\n",
    "    \n",
    "    feat, f_labels = extractFeatures(signals, labels, duration, sample_len)\n",
    "    t_feat = scaler.transform(t_feat)\n",
    "    feat = scaler.transform(feat)\n",
    "    \n",
    "    tar_names = list(genres.keys())\n",
    "    rf = createForest(t_feat, t_labels)\n",
    "    pred = rf.predict(feat)\n",
    "    print(confusion_matrix(f_labels, pred))\n",
    "    print(classification_report(f_labels, pred, target_names=tar_names))\n",
    "    \n",
    "    no_samples = int(duration/sample_len)\n",
    "    tr, pr = songWeightedPred(rf, feat, f_labels, no_samples)\n",
    "    print(confusion_matrix(tr, pr))\n",
    "    print(classification_report(tr, pr, target_names=tar_names))\n",
    "    \n",
    "    return rf, scaler\n"
   ]
  },
  {
   "cell_type": "code",
   "execution_count": 17,
   "metadata": {},
   "outputs": [
    {
     "name": "stdout",
     "output_type": "stream",
     "text": [
      "start features\n",
      "end features\n",
      "start forest\n",
      "end forest\n",
      "start forest\n",
      "end forest\n",
      "start forest\n",
      "end forest\n",
      "start forest\n",
      "end forest\n",
      "start forest\n",
      "end forest\n",
      "start forest\n",
      "end forest\n",
      "start forest\n",
      "end forest\n",
      "0.43930167904472456 0.46499999999999997 0.42984995882917504\n",
      "0.43998151505725586 0.4614285714285714 0.4249053947164301\n"
     ]
    }
   ],
   "source": [
    "validateModel(trs, trl, 28, 14)"
   ]
  },
  {
   "cell_type": "code",
   "execution_count": 18,
   "metadata": {},
   "outputs": [
    {
     "name": "stdout",
     "output_type": "stream",
     "text": [
      "start features\n",
      "end features\n",
      "start forest\n",
      "end forest\n",
      "start forest\n",
      "end forest\n",
      "start forest\n",
      "end forest\n",
      "start forest\n",
      "end forest\n",
      "start forest\n",
      "end forest\n",
      "start forest\n",
      "end forest\n",
      "start forest\n",
      "end forest\n",
      "0.45183066484538886 0.46535714285714286 0.43875544435304736\n",
      "0.5140752246021173 0.5128571428571428 0.48207896816171475\n"
     ]
    }
   ],
   "source": [
    "validateModel(trs, trl, 28, 7)"
   ]
  },
  {
   "cell_type": "code",
   "execution_count": 19,
   "metadata": {},
   "outputs": [
    {
     "name": "stdout",
     "output_type": "stream",
     "text": [
      "start features\n",
      "end features\n",
      "start forest\n",
      "end forest\n",
      "start forest\n",
      "end forest\n",
      "start forest\n",
      "end forest\n",
      "start forest\n",
      "end forest\n",
      "start forest\n",
      "end forest\n",
      "start forest\n",
      "end forest\n",
      "start forest\n",
      "end forest\n",
      "0.46190131378365956 0.47775510204081634 0.4561722942435868\n",
      "0.5424891742687591 0.5314285714285714 0.5042316771469683\n"
     ]
    }
   ],
   "source": [
    "validateModel(trs, trl, 28, 2)"
   ]
  },
  {
   "cell_type": "code",
   "execution_count": 20,
   "metadata": {},
   "outputs": [
    {
     "name": "stdout",
     "output_type": "stream",
     "text": [
      "start features\n",
      "end features\n",
      "start forest\n",
      "end forest\n",
      "start forest\n",
      "end forest\n",
      "start forest\n",
      "end forest\n",
      "start forest\n",
      "end forest\n",
      "start forest\n",
      "end forest\n",
      "start forest\n",
      "end forest\n",
      "start forest\n",
      "end forest\n",
      "0.46819301003542224 0.48428571428571426 0.46352940251975117\n",
      "0.5865597039267524 0.5685714285714286 0.5473463199709212\n"
     ]
    }
   ],
   "source": [
    "validateModel(trs, trl, 28, 1)"
   ]
  },
  {
   "cell_type": "code",
   "execution_count": 21,
   "metadata": {},
   "outputs": [
    {
     "name": "stdout",
     "output_type": "stream",
     "text": [
      "start features\n",
      "end features\n",
      "start forest\n",
      "end forest\n",
      "start forest\n",
      "end forest\n",
      "start forest\n",
      "end forest\n",
      "start forest\n",
      "end forest\n",
      "start forest\n",
      "end forest\n",
      "start forest\n",
      "end forest\n",
      "start forest\n",
      "end forest\n",
      "0.4685826481640504 0.48390306122448973 0.46570990117678074\n",
      "0.6131920731732762 0.5914285714285715 0.573674319835947\n"
     ]
    }
   ],
   "source": [
    "validateModel(trs, trl, 28, 0.5)"
   ]
  },
  {
   "cell_type": "code",
   "execution_count": 22,
   "metadata": {},
   "outputs": [
    {
     "name": "stdout",
     "output_type": "stream",
     "text": [
      "start features\n",
      "end features\n",
      "start forest\n",
      "end forest\n",
      "start forest\n",
      "end forest\n",
      "start forest\n",
      "end forest\n",
      "start forest\n",
      "end forest\n",
      "start forest\n",
      "end forest\n",
      "start forest\n",
      "end forest\n",
      "start forest\n",
      "end forest\n",
      "0.46702007725559 0.4843877551020408 0.4662817155957793\n",
      "0.6655126817626817 0.6271428571428572 0.6069281823347935\n"
     ]
    }
   ],
   "source": [
    "validateModel(trs, trl, 28, 0.25)"
   ]
  },
  {
   "cell_type": "code",
   "execution_count": 23,
   "metadata": {},
   "outputs": [
    {
     "name": "stdout",
     "output_type": "stream",
     "text": [
      "start features\n",
      "end features\n",
      "start forest\n",
      "end forest\n",
      "start forest\n",
      "end forest\n",
      "start forest\n",
      "end forest\n",
      "start forest\n",
      "end forest\n",
      "start forest\n",
      "end forest\n",
      "start forest\n",
      "end forest\n",
      "start forest\n",
      "end forest\n",
      "0.4307696276149824 0.4522270408163265 0.4334990600453783\n",
      "0.6764931434480305 0.6371428571428571 0.614582124930852\n"
     ]
    }
   ],
   "source": [
    "validateModel(trs, trl, 28, 0.05)"
   ]
  },
  {
   "cell_type": "code",
   "execution_count": 24,
   "metadata": {},
   "outputs": [],
   "source": [
    "# PREC, RECALL, F1-SCORE\n",
    "prec_sample = []\n",
    "prec_w = []\n",
    "\n",
    "recall_sample = []\n",
    "recall_w = []\n",
    "\n",
    "f1_sample = []\n",
    "f1_w = []\n",
    "# 28-14\n",
    "prec_sample.append(0.43930167904472456)\n",
    "recall_sample.append(0.46499999999999997)\n",
    "f1_sample.append(0.42984995882917504)\n",
    "prec_w.append(0.43998151505725586)\n",
    "recall_w.append(0.4614285714285714)\n",
    "f1_w.append(0.4249053947164301)\n",
    "\n",
    "# 28-7\n",
    "prec_sample.append(0.45183066484538886)\n",
    "recall_sample.append(0.46535714285714286)\n",
    "f1_sample.append(0.43875544435304736)\n",
    "prec_w.append(0.5140752246021173)\n",
    "recall_w.append(0.5128571428571428)\n",
    "f1_w.append(0.48207896816171475)\n",
    "  \n",
    "# 28-2\n",
    "prec_sample.append(0.46190131378365956)\n",
    "recall_sample.append(0.47775510204081634)\n",
    "f1_sample.append(0.4561722942435868)\n",
    "prec_w.append(0.5424891742687591)\n",
    "recall_w.append(0.5314285714285714)\n",
    "f1_w.append(0.5042316771469683)\n",
    "  \n",
    "# 28-1\n",
    "prec_sample.append(0.46819301003542224)\n",
    "recall_sample.append(0.48428571428571426)\n",
    "f1_sample.append(0.46352940251975117)\n",
    "prec_w.append(0.5865597039267524)\n",
    "recall_w.append(0.5685714285714286)\n",
    "f1_w.append(0.5473463199709212)\n",
    "  \n",
    "# 28-0.5\n",
    "prec_sample.append(0.4685826481640504)\n",
    "recall_sample.append(0.48390306122448973)\n",
    "f1_sample.append(0.46570990117678074)\n",
    "prec_w.append(0.6131920731732762)\n",
    "recall_w.append(0.5914285714285715)\n",
    "f1_w.append(0.573674319835947)\n",
    "  \n",
    "# 28-0.25\n",
    "prec_sample.append(0.46702007725559)\n",
    "recall_sample.append(0.4843877551020408)\n",
    "f1_sample.append(0.4662817155957793)\n",
    "prec_w.append(0.6655126817626817)\n",
    "recall_w.append(0.6271428571428572)\n",
    "f1_w.append(0.6069281823347935)\n",
    "  \n",
    "# 28-0.05\n",
    "prec_sample.append(0.4307696276149824)\n",
    "recall_sample.append(0.4522270408163265)\n",
    "f1_sample.append(0.4334990600453783)\n",
    "prec_w.append(0.6764931434480305)\n",
    "recall_w.append(0.6371428571428571)\n",
    "f1_w.append(0.614582124930852)"
   ]
  },
  {
   "cell_type": "code",
   "execution_count": 66,
   "metadata": {},
   "outputs": [
    {
     "data": {
      "image/png": "[encoded data removed]",
      "text/plain": [
       "<Figure size 432x288 with 1 Axes>"
      ]
     },
     "metadata": {},
     "output_type": "display_data"
    },
    {
     "data": {
      "image/png": "[encoded data removed]",
      "text/plain": [
       "<Figure size 432x288 with 1 Axes>"
      ]
     },
     "metadata": {},
     "output_type": "display_data"
    },
    {
     "data": {
      "image/png": "[encoded data removed]",
      "text/plain": [
       "<Figure size 432x288 with 1 Axes>"
      ]
     },
     "metadata": {},
     "output_type": "display_data"
    }
   ],
   "source": [
    "plt.plot(['2','4','14','28','56','112','560'], prec_sample, label='Per sample')\n",
    "plt.plot(['2','4','14','28','56','112','560'], prec_w, label='Per song')\n",
    "plt.title('Precision')\n",
    "plt.xlabel('Samples per song')\n",
    "plt.legend()\n",
    "plt.show()\n",
    "\n",
    "plt.plot(['2','4','14','28','56','112','560'], recall_sample, label='Per sample')\n",
    "plt.plot(['2','4','14','28','56','112','560'], recall_w, label='Per song')\n",
    "plt.title('Recall')\n",
    "plt.xlabel('Samples per song')\n",
    "plt.legend()\n",
    "plt.show()\n",
    "\n",
    "plt.plot(['2','4','14','28','56','112','560'], f1_sample, label='Per sample')\n",
    "plt.plot(['2','4','14','28','56','112','560'], f1_w, label='Per song')\n",
    "plt.title('F1-score')\n",
    "plt.xlabel('Samples per song')\n",
    "plt.legend()\n",
    "plt.show()"
   ]
  },
  {
   "cell_type": "code",
   "execution_count": 39,
   "metadata": {},
   "outputs": [
    {
     "name": "stdout",
     "output_type": "stream",
     "text": [
      "[[ 6284   305  1140  1313  1110  1971  1029   540  2188   920]\n",
      " [  294 12045   640   435    38   482   573   822   864   607]\n",
      " [  855  2617  6992  1465   706     2  1423  1557   507   676]\n",
      " [  989   398  1853  5694   850  2358  1923  1015   431  1289]\n",
      " [  215    16   195   362 14222   174  1234   207    24   151]\n",
      " [  766    56    36   601   143 12397   311   211  1473   806]\n",
      " [  869   330  1400  1414  2215  1349  7945   753   186   339]\n",
      " [  867  2050  2066  1913   497  2405  1066  2533   832  2571]\n",
      " [ 2179  1532   557   613   305  2259   534   703  6518  1600]\n",
      " [ 1256  1761   917  1046   455  2788   860  1464  1532  4721]]\n",
      "             precision    recall  f1-score   support\n",
      "\n",
      "     reggae       0.43      0.37      0.40     16800\n",
      "      metal       0.57      0.72      0.64     16800\n",
      "      blues       0.44      0.42      0.43     16800\n",
      "    country       0.38      0.34      0.36     16800\n",
      "  classical       0.69      0.85      0.76     16800\n",
      "        pop       0.47      0.74      0.58     16800\n",
      "       jazz       0.47      0.47      0.47     16800\n",
      "       rock       0.26      0.15      0.19     16800\n",
      "     hiphop       0.45      0.39      0.42     16800\n",
      "      disco       0.35      0.28      0.31     16800\n",
      "\n",
      "avg / total       0.45      0.47      0.46    168000\n",
      "\n",
      "[[21  0  3  1  0  3  0  0  2  0]\n",
      " [ 0 25  0  0  0  2  1  1  1  0]\n",
      " [ 0  7 18  0  1  0  2  1  0  1]\n",
      " [ 0  0  1 18  0  7  2  1  0  1]\n",
      " [ 0  0  0  0 29  1  0  0  0  0]\n",
      " [ 0  0  0  0  0 29  0  0  1  0]\n",
      " [ 0  0  2  0  3  3 21  1  0  0]\n",
      " [ 0  3  6  1  0  8  2  5  1  4]\n",
      " [ 4  3  0  0  0  3  0  1 17  2]\n",
      " [ 1  3  2  0  0  9  0  1  0 14]]\n",
      "             precision    recall  f1-score   support\n",
      "\n",
      "     reggae       0.81      0.70      0.75        30\n",
      "      metal       0.61      0.83      0.70        30\n",
      "      blues       0.56      0.60      0.58        30\n",
      "    country       0.90      0.60      0.72        30\n",
      "  classical       0.88      0.97      0.92        30\n",
      "        pop       0.45      0.97      0.61        30\n",
      "       jazz       0.75      0.70      0.72        30\n",
      "       rock       0.45      0.17      0.24        30\n",
      "     hiphop       0.77      0.57      0.65        30\n",
      "      disco       0.64      0.47      0.54        30\n",
      "\n",
      "avg / total       0.68      0.66      0.64       300\n",
      "\n"
     ]
    }
   ],
   "source": [
    "final_rf, final_scaler = testModel(tes, tel, 28, 0.05, trs, trl)"
   ]
  },
  {
   "cell_type": "code",
   "execution_count": null,
   "metadata": {},
   "outputs": [],
   "source": []
  }
 ],
 "metadata": {
  "kernelspec": {
   "display_name": "Python 3",
   "language": "python",
   "name": "python3"
  },
  "language_info": {
   "codemirror_mode": {
    "name": "ipython",
    "version": 3
   },
   "file_extension": ".py",
   "mimetype": "text/x-python",
   "name": "python",
   "nbconvert_exporter": "python",
   "pygments_lexer": "ipython3",
   "version": "3.6.3"
  }
 },
 "nbformat": 4,
 "nbformat_minor": 2
}
